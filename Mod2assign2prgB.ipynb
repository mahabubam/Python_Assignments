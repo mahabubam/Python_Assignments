{
  "nbformat": 4,
  "nbformat_minor": 0,
  "metadata": {
    "colab": {
      "provenance": [],
      "authorship_tag": "ABX9TyOtrKN8O5PdPc4ZxppQodex",
      "include_colab_link": true
    },
    "kernelspec": {
      "name": "python3",
      "display_name": "Python 3"
    },
    "language_info": {
      "name": "python"
    }
  },
  "cells": [
    {
      "cell_type": "markdown",
      "metadata": {
        "id": "view-in-github",
        "colab_type": "text"
      },
      "source": [
        "<a href=\"https://colab.research.google.com/github/mahabubam/Python_Assignments/blob/main/Mod2assign2prgB.ipynb\" target=\"_parent\"><img src=\"https://colab.research.google.com/assets/colab-badge.svg\" alt=\"Open In Colab\"/></a>"
      ]
    },
    {
      "cell_type": "code",
      "execution_count": 3,
      "metadata": {
        "colab": {
          "base_uri": "https://localhost:8080/"
        },
        "id": "26CjJoLuUQgD",
        "outputId": "60a1204d-664e-4884-d16a-e8dc9f620a12"
      },
      "outputs": [
        {
          "output_type": "stream",
          "name": "stdout",
          "text": [
            "10\n",
            "1\n",
            "5.5\n"
          ]
        }
      ],
      "source": [
        "#Module2pgm2Solution 2\n",
        "\n",
        "L=[1,2,3,4,5,6,7,8,9,10]\n",
        "\n",
        "maximum=L[0]\n",
        "\n",
        "minimum=L[0]\n",
        "\n",
        "total=0\n",
        "\n",
        "count=0\n",
        "\n",
        "for i in L:\n",
        "\n",
        "  if i>maximum:\n",
        "\n",
        "    maximum=i\n",
        "\n",
        "  if i<minimum:\n",
        "\n",
        "    minimum=i\n",
        "\n",
        "for num in L:\n",
        "\n",
        "  total +=num\n",
        "\n",
        "  count +=1\n",
        "\n",
        "average=total/count\n",
        "\n",
        "print(maximum)\n",
        "\n",
        "print(minimum)\n",
        "\n",
        "print(average)"
      ]
    }
  ]
}