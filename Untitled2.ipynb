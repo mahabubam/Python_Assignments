{
  "nbformat": 4,
  "nbformat_minor": 0,
  "metadata": {
    "colab": {
      "provenance": [],
      "authorship_tag": "ABX9TyPc4kWojMgeiZ5i0d1ldFBZ",
      "include_colab_link": true
    },
    "kernelspec": {
      "name": "python3",
      "display_name": "Python 3"
    },
    "language_info": {
      "name": "python"
    }
  },
  "cells": [
    {
      "cell_type": "markdown",
      "metadata": {
        "id": "view-in-github",
        "colab_type": "text"
      },
      "source": [
        "<a href=\"https://colab.research.google.com/github/mahabubam/Python_Assignments/blob/main/Untitled2.ipynb\" target=\"_parent\"><img src=\"https://colab.research.google.com/assets/colab-badge.svg\" alt=\"Open In Colab\"/></a>"
      ]
    },
    {
      "cell_type": "code",
      "execution_count": 2,
      "metadata": {
        "colab": {
          "base_uri": "https://localhost:8080/"
        },
        "id": "X6CuuUPyVqUg",
        "outputId": "ea00476b-c2fe-4cbb-f6ee-11065a82175a"
      },
      "outputs": [
        {
          "output_type": "stream",
          "name": "stdout",
          "text": [
            "enter search number4\n",
            "Number exists in inner list\n"
          ]
        }
      ],
      "source": [
        "#Module2Assign2Solution for question 2\n",
        "\n",
        "L=[1,2,3,4,[4,3]]\n",
        "\n",
        "number=int(input(\"enter search number\"))\n",
        "\n",
        "for element in L:\n",
        "\n",
        "  if isinstance(element,list):\n",
        "\n",
        "    if number in element:\n",
        "\n",
        "      print(\"Number exists in inner list\")\n",
        "\n",
        "      break\n",
        "\n",
        "  else:\n",
        "\n",
        "    continue\n",
        "\n",
        "else:\n",
        "\n",
        "  print(f\"Number {number} doesnt exist in inner list\")"
      ]
    }
  ]
}