{
  "nbformat": 4,
  "nbformat_minor": 0,
  "metadata": {
    "colab": {
      "provenance": [],
      "authorship_tag": "ABX9TyNJX+YmCSiiCvP7LHOuIhIw",
      "include_colab_link": true
    },
    "kernelspec": {
      "name": "python3",
      "display_name": "Python 3"
    },
    "language_info": {
      "name": "python"
    }
  },
  "cells": [
    {
      "cell_type": "markdown",
      "metadata": {
        "id": "view-in-github",
        "colab_type": "text"
      },
      "source": [
        "<a href=\"https://colab.research.google.com/github/mahabubam/Python_Assignments/blob/main/mod2assign2partA.ipynb\" target=\"_parent\"><img src=\"https://colab.research.google.com/assets/colab-badge.svg\" alt=\"Open In Colab\"/></a>"
      ]
    },
    {
      "cell_type": "code",
      "execution_count": 1,
      "metadata": {
        "colab": {
          "base_uri": "https://localhost:8080/"
        },
        "id": "rs3NPcgAVXkm",
        "outputId": "3a24f590-06ce-4068-c263-3b095a5cf470"
      },
      "outputs": [
        {
          "output_type": "stream",
          "name": "stdout",
          "text": [
            "[1, 2, 3, 4, 5]\n"
          ]
        }
      ],
      "source": [
        "#Module2Assign2Solution for question 1\n",
        "\n",
        "L=[1,1,1,1,2,2,3,3,3,3,4,5]\n",
        "\n",
        "unique_elements=[]\n",
        "\n",
        "for element in L:\n",
        "\n",
        "  if element not in unique_elements:\n",
        "\n",
        "    unique_elements.append(element)\n",
        "\n",
        "print(unique_elements)"
      ]
    }
  ]
}