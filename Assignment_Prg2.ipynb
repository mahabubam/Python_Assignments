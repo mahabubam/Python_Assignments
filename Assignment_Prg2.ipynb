{
  "nbformat": 4,
  "nbformat_minor": 0,
  "metadata": {
    "colab": {
      "provenance": [],
      "authorship_tag": "ABX9TyN2D/lRRG1P+HabIkBfZU7z",
      "include_colab_link": true
    },
    "kernelspec": {
      "name": "python3",
      "display_name": "Python 3"
    },
    "language_info": {
      "name": "python"
    }
  },
  "cells": [
    {
      "cell_type": "markdown",
      "metadata": {
        "id": "view-in-github",
        "colab_type": "text"
      },
      "source": [
        "<a href=\"https://colab.research.google.com/github/mahabubam/Python_Assignments/blob/main/Assignment_Prg2.ipynb\" target=\"_parent\"><img src=\"https://colab.research.google.com/assets/colab-badge.svg\" alt=\"Open In Colab\"/></a>"
      ]
    },
    {
      "cell_type": "code",
      "execution_count": 2,
      "metadata": {
        "colab": {
          "base_uri": "https://localhost:8080/"
        },
        "id": "p1Eine5cPy6x",
        "outputId": "fde2ce58-8796-431a-a320-529ee812e14a"
      },
      "outputs": [
        {
          "output_type": "stream",
          "name": "stdout",
          "text": [
            "Enter transaction log: D:10 W:2 D:10\n",
            "Total Remaining Balance::18\n"
          ]
        }
      ],
      "source": [
        "#Asssignment 2\n",
        "log_message=input(\"Enter transaction log: \")\n",
        "transactions=log_message.split()\n",
        "balance=0\n",
        "for transaction in transactions:\n",
        "    if transaction[0]=='D':\n",
        "        balance +=int(transaction[2:])\n",
        "    elif transaction[0]=='W':\n",
        "        balance -=int(transaction[2:])\n",
        "print(f\"Total Remaining Balance::{balance}\")\n"
      ]
    }
  ]
}