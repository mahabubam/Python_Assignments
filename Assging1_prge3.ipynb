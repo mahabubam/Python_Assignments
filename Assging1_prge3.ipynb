{
  "nbformat": 4,
  "nbformat_minor": 0,
  "metadata": {
    "colab": {
      "provenance": [],
      "authorship_tag": "ABX9TyOKU0yvI2MJbT94nCaBHKSr",
      "include_colab_link": true
    },
    "kernelspec": {
      "name": "python3",
      "display_name": "Python 3"
    },
    "language_info": {
      "name": "python"
    }
  },
  "cells": [
    {
      "cell_type": "markdown",
      "metadata": {
        "id": "view-in-github",
        "colab_type": "text"
      },
      "source": [
        "<a href=\"https://colab.research.google.com/github/mahabubam/Python_Assignments/blob/main/Assging1_prge3.ipynb\" target=\"_parent\"><img src=\"https://colab.research.google.com/assets/colab-badge.svg\" alt=\"Open In Colab\"/></a>"
      ]
    },
    {
      "cell_type": "code",
      "execution_count": 1,
      "metadata": {
        "colab": {
          "base_uri": "https://localhost:8080/"
        },
        "id": "tlGD7XbrRCpC",
        "outputId": "207ea638-dcf2-4da7-bcf7-e6d792d5559b"
      },
      "outputs": [
        {
          "output_type": "stream",
          "name": "stdout",
          "text": [
            "Enter no of calls 100\n",
            "200\n"
          ]
        }
      ],
      "source": [
        "#Asssignment 3\n",
        "\n",
        "num_calls=int(input(\"Enter no of calls \"))\n",
        "\n",
        "bill=0\n",
        "\n",
        "if num_calls<=100:\n",
        "\n",
        "    bill=200\n",
        "\n",
        "elif num_calls<=150:\n",
        "\n",
        "    bill=200+(num_calls-100)*0.60\n",
        "\n",
        "elif num_calls<=200:\n",
        "\n",
        "    bill=200+50*0.60+(num_calls-150)*0.50\n",
        "\n",
        "else:\n",
        "\n",
        "    bill=200+50*0.60+50*0.50+(num_calls-150)*0.50\n",
        "\n",
        "print(bill)"
      ]
    }
  ]
}