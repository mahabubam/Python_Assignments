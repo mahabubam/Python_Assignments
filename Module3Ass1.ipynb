{
  "nbformat": 4,
  "nbformat_minor": 0,
  "metadata": {
    "colab": {
      "provenance": [],
      "authorship_tag": "ABX9TyNzmxcSy0lV7cpqjyoZ4TRz",
      "include_colab_link": true
    },
    "kernelspec": {
      "name": "python3",
      "display_name": "Python 3"
    },
    "language_info": {
      "name": "python"
    }
  },
  "cells": [
    {
      "cell_type": "markdown",
      "metadata": {
        "id": "view-in-github",
        "colab_type": "text"
      },
      "source": [
        "<a href=\"https://colab.research.google.com/github/mahabubam/Python_Assignments/blob/main/Module3Ass1.ipynb\" target=\"_parent\"><img src=\"https://colab.research.google.com/assets/colab-badge.svg\" alt=\"Open In Colab\"/></a>"
      ]
    },
    {
      "cell_type": "code",
      "execution_count": 1,
      "metadata": {
        "colab": {
          "base_uri": "https://localhost:8080/"
        },
        "id": "O1FIpFKARp9y",
        "outputId": "8a93af54-1eec-4a46-92d9-1e7a60d8d8e0"
      },
      "outputs": [
        {
          "output_type": "stream",
          "name": "stdout",
          "text": [
            "20\n"
          ]
        }
      ],
      "source": [
        "#Module3 Assignment1\n",
        "\n",
        "def sum_list(numbers):\n",
        "\n",
        "  total=sum(numbers)\n",
        "\n",
        "  return total\n",
        "\n",
        "sample_list=[8,2,3,0,7]\n",
        "\n",
        "result=sum_list(sample_list)\n",
        "\n",
        "print(result)"
      ]
    }
  ]
}