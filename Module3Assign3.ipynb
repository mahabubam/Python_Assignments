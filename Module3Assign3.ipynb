{
  "nbformat": 4,
  "nbformat_minor": 0,
  "metadata": {
    "colab": {
      "provenance": [],
      "authorship_tag": "ABX9TyMLlfm0oXpiNYbAJhFNFbZn",
      "include_colab_link": true
    },
    "kernelspec": {
      "name": "python3",
      "display_name": "Python 3"
    },
    "language_info": {
      "name": "python"
    }
  },
  "cells": [
    {
      "cell_type": "markdown",
      "metadata": {
        "id": "view-in-github",
        "colab_type": "text"
      },
      "source": [
        "<a href=\"https://colab.research.google.com/github/mahabubam/Python_Assignments/blob/main/Module3Assign3.ipynb\" target=\"_parent\"><img src=\"https://colab.research.google.com/assets/colab-badge.svg\" alt=\"Open In Colab\"/></a>"
      ]
    },
    {
      "cell_type": "code",
      "execution_count": 1,
      "metadata": {
        "colab": {
          "base_uri": "https://localhost:8080/"
        },
        "id": "akeqWD5iSmLP",
        "outputId": "5988289b-9be8-4469-eef4-cfac21968a5c"
      },
      "outputs": [
        {
          "output_type": "stream",
          "name": "stdout",
          "text": [
            "Enter string to check:: my Name is MahaBub\n",
            "Uppercase count:: 3\n",
            "lowercase count:: 12\n"
          ]
        }
      ],
      "source": [
        "#Module3Assign3\n",
        "\n",
        "def count_upper_lower(string):\n",
        "\n",
        "  upper_count=0\n",
        "\n",
        "  lower_count=0\n",
        "\n",
        "\n",
        "\n",
        "  for char in string:\n",
        "\n",
        "    if char.isupper():\n",
        "\n",
        "      upper_count +=1\n",
        "\n",
        "    elif char.islower():\n",
        "\n",
        "      lower_count +=1\n",
        "\n",
        "  return upper_count,lower_count\n",
        "\n",
        "text=input(\"Enter string to check:: \")\n",
        "\n",
        "upper,lower=count_upper_lower(text)\n",
        "\n",
        "print(\"Uppercase count::\",upper)\n",
        "\n",
        "print(\"lowercase count::\",lower)"
      ]
    }
  ]
}