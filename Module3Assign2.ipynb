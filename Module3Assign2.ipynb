{
  "nbformat": 4,
  "nbformat_minor": 0,
  "metadata": {
    "colab": {
      "provenance": [],
      "authorship_tag": "ABX9TyML2tsq6uZHpm/9zi0SLmfg",
      "include_colab_link": true
    },
    "kernelspec": {
      "name": "python3",
      "display_name": "Python 3"
    },
    "language_info": {
      "name": "python"
    }
  },
  "cells": [
    {
      "cell_type": "markdown",
      "metadata": {
        "id": "view-in-github",
        "colab_type": "text"
      },
      "source": [
        "<a href=\"https://colab.research.google.com/github/mahabubam/Python_Assignments/blob/main/Module3Assign2.ipynb\" target=\"_parent\"><img src=\"https://colab.research.google.com/assets/colab-badge.svg\" alt=\"Open In Colab\"/></a>"
      ]
    },
    {
      "cell_type": "code",
      "execution_count": null,
      "metadata": {
        "id": "gHrKxk6wSPDK"
      },
      "outputs": [],
      "source": [
        "#Module3Assign2\n",
        "\n",
        "def reverse_string(string):\n",
        "\n",
        "  reversed_string=string[::-1]\n",
        "\n",
        "  return reversed_string\n",
        "\n",
        "input_string=input(\"Enter a string: \")\n",
        "\n",
        "#input_String=\"1234abcd\"\n",
        "\n",
        "reversed_string=reverse_string(input_string)\n",
        "\n",
        "print(\"Reversed string::\",reversed_string)"
      ]
    }
  ]
}