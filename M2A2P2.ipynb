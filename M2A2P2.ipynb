{
  "nbformat": 4,
  "nbformat_minor": 0,
  "metadata": {
    "colab": {
      "provenance": [],
      "authorship_tag": "ABX9TyO7E9SytMsZ04y6dtlAV8a+",
      "include_colab_link": true
    },
    "kernelspec": {
      "name": "python3",
      "display_name": "Python 3"
    },
    "language_info": {
      "name": "python"
    }
  },
  "cells": [
    {
      "cell_type": "markdown",
      "metadata": {
        "id": "view-in-github",
        "colab_type": "text"
      },
      "source": [
        "<a href=\"https://colab.research.google.com/github/mahabubam/Python_Assignments/blob/main/M2A2P2.ipynb\" target=\"_parent\"><img src=\"https://colab.research.google.com/assets/colab-badge.svg\" alt=\"Open In Colab\"/></a>"
      ]
    },
    {
      "cell_type": "code",
      "execution_count": 1,
      "metadata": {
        "id": "Lmd86V2FWNYl",
        "outputId": "5de92356-d4ca-47c4-af1c-6e967370ed8b",
        "colab": {
          "base_uri": "https://localhost:8080/"
        }
      },
      "outputs": [
        {
          "output_type": "stream",
          "name": "stdout",
          "text": [
            "[[1, 2], [3, 5], [1, 2, 1]]\n"
          ]
        }
      ],
      "source": [
        "#Assignment2 Solution for question 1\n",
        "\n",
        "numbers_nested=[[1,-1,2],[0,-5,3,5,-2],[1,2,1,0,-2,-3]]\n",
        "\n",
        "positive_numbers=[]\n",
        "\n",
        "for ele in numbers_nested:\n",
        "\n",
        "  positive_numbers.append([num for num in ele if num>0])\n",
        "\n",
        "print(positive_numbers)"
      ]
    }
  ]
}