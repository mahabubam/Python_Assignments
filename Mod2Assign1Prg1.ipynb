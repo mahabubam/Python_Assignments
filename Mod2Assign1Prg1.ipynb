{
  "nbformat": 4,
  "nbformat_minor": 0,
  "metadata": {
    "colab": {
      "provenance": [],
      "authorship_tag": "ABX9TyNulY/2m2ZaP0hjRQ58+hma",
      "include_colab_link": true
    },
    "kernelspec": {
      "name": "python3",
      "display_name": "Python 3"
    },
    "language_info": {
      "name": "python"
    }
  },
  "cells": [
    {
      "cell_type": "markdown",
      "metadata": {
        "id": "view-in-github",
        "colab_type": "text"
      },
      "source": [
        "<a href=\"https://colab.research.google.com/github/mahabubam/Python_Assignments/blob/main/Mod2Assign1Prg1.ipynb\" target=\"_parent\"><img src=\"https://colab.research.google.com/assets/colab-badge.svg\" alt=\"Open In Colab\"/></a>"
      ]
    },
    {
      "cell_type": "code",
      "execution_count": 2,
      "metadata": {
        "colab": {
          "base_uri": "https://localhost:8080/"
        },
        "id": "nTzecgb9Td8g",
        "outputId": "c0ba8ce1-cc46-4066-bf61-a3763d199628"
      },
      "outputs": [
        {
          "output_type": "stream",
          "name": "stdout",
          "text": [
            "['phone.jpg', 'view.jpg', 'bear.jpg']\n"
          ]
        }
      ],
      "source": [
        "#Solution 1\n",
        "\n",
        "filename=['view.jpg','bear.jpg','ball.png']\n",
        "\n",
        "filename.insert(0,'phone.jpg')\n",
        "\n",
        "filename.remove('ball.png')\n",
        "\n",
        "print(filename)"
      ]
    }
  ]
}