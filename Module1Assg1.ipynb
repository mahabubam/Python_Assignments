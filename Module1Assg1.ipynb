{
  "nbformat": 4,
  "nbformat_minor": 0,
  "metadata": {
    "colab": {
      "provenance": [],
      "authorship_tag": "ABX9TyMx9gWT+fngS56XXFUFaM2h",
      "include_colab_link": true
    },
    "kernelspec": {
      "name": "python3",
      "display_name": "Python 3"
    },
    "language_info": {
      "name": "python"
    }
  },
  "cells": [
    {
      "cell_type": "markdown",
      "metadata": {
        "id": "view-in-github",
        "colab_type": "text"
      },
      "source": [
        "<a href=\"https://colab.research.google.com/github/mahabubam/Python_Assignments/blob/main/Module1Assg1.ipynb\" target=\"_parent\"><img src=\"https://colab.research.google.com/assets/colab-badge.svg\" alt=\"Open In Colab\"/></a>"
      ]
    },
    {
      "cell_type": "code",
      "execution_count": null,
      "metadata": {
        "id": "wiJixDEzOQk_"
      },
      "outputs": [],
      "source": []
    },
    {
      "cell_type": "code",
      "source": [
        "#Asssignment 1\n",
        "num=int(input(\"Enter a number:: \"))\n",
        "if num%3==0 and num%5==0:\n",
        "    print(\"Fizz Buzz\")\n",
        "elif num%3==0:\n",
        "    print(\"Fizz\")\n",
        "elif num%5==0:\n",
        "    print(\"Buzz\")\n",
        "else:\n",
        "    print(\"Not a multiple 0f 3 and 5\")\n"
      ],
      "metadata": {
        "id": "tCn4jWa7OREl"
      },
      "execution_count": null,
      "outputs": []
    }
  ]
}